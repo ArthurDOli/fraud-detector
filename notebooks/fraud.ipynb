{
  "cells": [
    {
      "cell_type": "code",
      "execution_count": null,
      "metadata": {
        "id": "V2oK__uGIsqO"
      },
      "outputs": [],
      "source": [
        "import pandas as pd"
      ]
    },
    {
      "cell_type": "code",
      "execution_count": null,
      "metadata": {
        "colab": {
          "base_uri": "https://localhost:8080/",
          "height": 443
        },
        "id": "lZbCA6iSJwcQ",
        "outputId": "1cb82466-fa78-4c21-8fe3-470c6a83f542"
      },
      "outputs": [],
      "source": [
        "df = pd.read_csv('creditcard.csv')\n",
        "df"
      ]
    },
    {
      "cell_type": "code",
      "execution_count": null,
      "metadata": {
        "colab": {
          "base_uri": "https://localhost:8080/",
          "height": 443
        },
        "id": "xQ2hzMJtKVqO",
        "outputId": "27fc86e5-23fc-42f8-eb10-28bf88d6e76d"
      },
      "outputs": [],
      "source": [
        "frauds = df[df['Class'] == 1]\n",
        "frauds"
      ]
    },
    {
      "cell_type": "code",
      "execution_count": null,
      "metadata": {
        "colab": {
          "base_uri": "https://localhost:8080/",
          "height": 349
        },
        "id": "LDGh3hTyNwtO",
        "outputId": "2359f6d6-50aa-4044-8e61-1c518ca5cda4"
      },
      "outputs": [],
      "source": [
        "df.describe()"
      ]
    },
    {
      "cell_type": "code",
      "execution_count": null,
      "metadata": {
        "colab": {
          "base_uri": "https://localhost:8080/",
          "height": 349
        },
        "id": "xE-0HzPxNFaX",
        "outputId": "921c908c-24d1-4f63-d741-454682d9b9d1"
      },
      "outputs": [],
      "source": [
        "frauds.describe()"
      ]
    },
    {
      "cell_type": "code",
      "execution_count": null,
      "metadata": {
        "colab": {
          "base_uri": "https://localhost:8080/",
          "height": 564
        },
        "id": "fdfd70a9",
        "outputId": "74a2b3fd-0974-4e0e-bc16-73a7f8526893"
      },
      "outputs": [],
      "source": [
        "import matplotlib.pyplot as plt\n",
        "import seaborn as sns\n",
        "\n",
        "plt.figure(figsize=(10, 6))\n",
        "sns.histplot(frauds['Amount'], bins=50, kde=True)\n",
        "plt.title('Distribuição dos valores de transações fraudulentas')\n",
        "plt.xlabel('Amount')\n",
        "plt.ylabel('Frequência')\n",
        "plt.show()"
      ]
    },
    {
      "cell_type": "code",
      "execution_count": null,
      "metadata": {
        "colab": {
          "base_uri": "https://localhost:8080/",
          "height": 178
        },
        "id": "xINpNpiCMAed",
        "outputId": "e7f52d4e-5d6e-4ace-dd46-728ba6d56485"
      },
      "outputs": [],
      "source": [
        "df['Class'].value_counts(normalize=True)"
      ]
    },
    {
      "cell_type": "code",
      "execution_count": null,
      "metadata": {
        "colab": {
          "base_uri": "https://localhost:8080/",
          "height": 1000
        },
        "id": "VScNN-VPMNq2",
        "outputId": "1ccda06d-be81-4c13-980b-8826aaa7d392"
      },
      "outputs": [],
      "source": [
        "df.isnull().sum()"
      ]
    },
    {
      "cell_type": "code",
      "execution_count": null,
      "metadata": {
        "colab": {
          "base_uri": "https://localhost:8080/",
          "height": 300
        },
        "id": "GZBNbehJMViU",
        "outputId": "22c0c808-21d2-4035-b78a-114cfc42a516"
      },
      "outputs": [],
      "source": [
        "df[['Time', 'Amount']].describe()"
      ]
    },
    {
      "cell_type": "code",
      "execution_count": null,
      "metadata": {
        "colab": {
          "base_uri": "https://localhost:8080/",
          "height": 564
        },
        "id": "ce412b96",
        "outputId": "7b56aa05-1823-42cf-d3c1-93e1f9440bb9"
      },
      "outputs": [],
      "source": [
        "plt.figure(figsize=(12, 6))\n",
        "sns.scatterplot(data=frauds, x='Time', y='Amount', alpha=0.5)\n",
        "plt.title('Comparação entre Tempo e Valor de Transações Fraudulentas')\n",
        "plt.xlabel('Tempo (segundos)')\n",
        "plt.ylabel('Valor (Amount)')\n",
        "plt.show()"
      ]
    },
    {
      "cell_type": "code",
      "execution_count": null,
      "metadata": {
        "colab": {
          "base_uri": "https://localhost:8080/",
          "height": 564
        },
        "id": "7ab3f6c9",
        "outputId": "23469fc1-f807-4640-a4f4-087f46c66f85"
      },
      "outputs": [],
      "source": [
        "plt.figure(figsize=(12, 6))\n",
        "sns.scatterplot(data=df, x='Time', y='Amount', alpha=0.5)\n",
        "plt.title('Comparação entre Tempo e Valor da Transação')\n",
        "plt.xlabel('Tempo (segundos)')\n",
        "plt.ylabel('Valor (Amount)')\n",
        "plt.show()"
      ]
    },
    {
      "cell_type": "code",
      "execution_count": null,
      "metadata": {
        "colab": {
          "base_uri": "https://localhost:8080/",
          "height": 894
        },
        "id": "mfjm9v5wOUMt",
        "outputId": "f1c6a786-d37b-4fa7-c836-7180227509f0"
      },
      "outputs": [],
      "source": [
        "correlation_matrix = df.corr()\n",
        "\n",
        "plt.figure(figsize=(12, 10))\n",
        "sns.heatmap(correlation_matrix, cmap='coolwarm', annot=False)\n",
        "plt.title('Matriz de Correlação das Variáveis')\n",
        "plt.show()"
      ]
    }
  ],
  "metadata": {
    "colab": {
      "provenance": []
    },
    "kernelspec": {
      "display_name": "venv",
      "language": "python",
      "name": "python3"
    },
    "language_info": {
      "codemirror_mode": {
        "name": "ipython",
        "version": 3
      },
      "file_extension": ".py",
      "mimetype": "text/x-python",
      "name": "python",
      "nbconvert_exporter": "python",
      "pygments_lexer": "ipython3",
      "version": "3.11.3"
    }
  },
  "nbformat": 4,
  "nbformat_minor": 0
}
